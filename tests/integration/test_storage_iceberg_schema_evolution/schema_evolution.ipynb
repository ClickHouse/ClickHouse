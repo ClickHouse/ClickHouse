{
 "cells": [
  {
   "cell_type": "code",
   "execution_count": 7,
   "id": "7cb9b9ab",
   "metadata": {},
   "outputs": [],
   "source": [
    "import logging\n",
    "import os\n",
    "from pyspark import SparkConf\n",
    "from pyspark import SparkContext\n",
    "from pyspark.sql import SparkSession\n",
    "from pyspark.sql.types import StructType, StructField, LongType, DoubleType, StringType\n",
    "\n",
    "iceberg_version = \"1.5.2\"\n",
    "spark_version = \"3.5.1\"\n",
    "hadoop_aws_version = \"3.3.4\"\n",
    "jdk_bundle = \"1.12.262\"\n",
    "\n",
    "spark = SparkSession.builder \\\n",
    "    .appName(\"IcebergS3Example\") \\\n",
    "    .config(\"spark.jars.repositories\", \"https://repo1.maven.org/maven2\") \\\n",
    "    .config(\"spark.jars.packages\", \n",
    "        f'org.apache.iceberg:iceberg-spark-runtime-3.5_2.12:{iceberg_version},'\n",
    "        f'org.apache.spark:spark-avro_2.12:{spark_version},'\n",
    "            f'org.apache.hadoop:hadoop-aws:{hadoop_aws_version},'\n",
    "            f'com.amazonaws:aws-java-sdk-bundle:{jdk_bundle}')\\\n",
    "    .config(\"spark.sql.extensions\", \"org.apache.iceberg.spark.extensions.IcebergSparkSessionExtensions\") \\\n",
    "    .config(\"spark.sql.catalog.spark_catalog\", \"org.apache.iceberg.spark.SparkSessionCatalog\") \\\n",
    "    .config(\"spark.sql.catalog.spark_catalog.type\", \"hadoop\") \\\n",
    "    .config(\"spark.sql.catalog.spark_catalog.warehouse\", \"s3a://test/warehouse\") \\\n",
    "    .config(\"spark.hadoop.fs.s3a.endpoint\", \"http://localhost:11111\") \\\n",
    "    .config(\"spark.hadoop.fs.s3a.access.key\", \"clickhouse\") \\\n",
    "    .config(\"spark.hadoop.fs.s3a.secret.key\", \"clickhouse\") \\\n",
    "    .config(\"spark.hadoop.fs.s3a.path.style.access\", \"true\") \\\n",
    "    .config(\"spark.hadoop.fs.s3a.impl\", \"org.apache.hadoop.fs.s3a.S3AFileSystem\") \\\n",
    "    .getOrCreate()\n"
   ]
  },
  {
   "cell_type": "code",
   "execution_count": 9,
   "id": "d83d46e4",
   "metadata": {},
   "outputs": [],
   "source": [
    "TABLE_NAME = \"test_iceberg_schema_evolution_6\""
   ]
  },
  {
   "cell_type": "code",
   "execution_count": 10,
   "id": "75376ed0",
   "metadata": {},
   "outputs": [
    {
     "data": {
      "text/plain": [
       "DataFrame[]"
      ]
     },
     "execution_count": 10,
     "metadata": {},
     "output_type": "execute_result"
    }
   ],
   "source": [
    "spark.sql(\n",
    "    f\"\"\"\n",
    "    CREATE TABLE {TABLE_NAME} (\n",
    "        a int NOT NULL,\n",
    "        b int NOT NULL\n",
    "    )\n",
    "    USING iceberg\n",
    "    OPTIONS ('format-version'='2');\n",
    "    \"\"\"\n",
    ")\n",
    "\n",
    "spark.sql(\n",
    "    f\"\"\"\n",
    "    INSERT INTO {TABLE_NAME} VALUES (0, 1);\n",
    "    \"\"\"\n",
    ")\n",
    "\n",
    "spark.sql(\n",
    "    f\"\"\"\n",
    "    ALTER TABLE {TABLE_NAME} RENAME COLUMN b TO c;\n",
    "    \"\"\"\n",
    ")\n",
    "\n",
    "spark.sql(\n",
    "    f\"\"\"\n",
    "    ALTER TABLE {TABLE_NAME} RENAME COLUMN a TO b;\n",
    "    \"\"\"\n",
    ")\n",
    "\n",
    "spark.sql(\n",
    "    f\"\"\"\n",
    "    ALTER TABLE {TABLE_NAME} RENAME COLUMN c TO a;\n",
    "    \"\"\"\n",
    ")\n",
    "\n",
    "spark.sql(\n",
    "    f\"\"\"\n",
    "    ALTER TABLE {TABLE_NAME} ALTER COLUMN b AFTER a;\n",
    "    \"\"\"\n",
    ")\n",
    "\n",
    "spark.sql(\n",
    "    f\"\"\"\n",
    "    INSERT INTO {TABLE_NAME} VALUES (1, 0);\n",
    "    \"\"\"\n",
    ")\n"
   ]
  },
  {
   "cell_type": "code",
   "execution_count": 11,
   "id": "3df564ae",
   "metadata": {},
   "outputs": [
    {
     "name": "stdout",
     "output_type": "stream",
     "text": [
      "+---+---+\n",
      "|  a|  b|\n",
      "+---+---+\n",
      "|  1|  0|\n",
      "|  1|  0|\n",
      "+---+---+\n",
      "\n"
     ]
    }
   ],
   "source": [
    "spark.sql(\n",
    "    f\"SELECT * FROM {TABLE_NAME} ORDER BY ALL\"\n",
    ").show(n = 100)"
   ]
  },
  {
   "cell_type": "code",
   "execution_count": 66,
   "id": "6230a51c",
   "metadata": {},
   "outputs": [],
   "source": [
    "import pandas as pd\n",
    "\n",
    "clickhouse_to_pandas_types = {\n",
    "    \"Int32\": \"int\",\n",
    "}\n",
    "\n",
    "def convert_schema_and_data_to_pandas_df(schema_raw, data_raw):\n",
    "    # Extract column names from schema\n",
    "    schema_rows = list(\n",
    "        map(\n",
    "            lambda x: x.split(\"\\t\")[:2],\n",
    "            filter(lambda x: len(x) > 0, schema_raw.strip().split(\"\\n\")),\n",
    "        )\n",
    "    )\n",
    "    column_names = [x[0] for x in schema_rows]\n",
    "    types = [x[1] for x in schema_rows]\n",
    "    pandas_types = [clickhouse_to_pandas_types[t]for t in types]\n",
    "\n",
    "    schema_df = pd.DataFrame([types], columns=column_names)\n",
    "    \n",
    "    # Convert data to DataFrame\n",
    "    data_rows = list(\n",
    "        map(\n",
    "            lambda x: x.split(\"\\t\"),\n",
    "            filter(lambda x: len(x) > 0, data_raw.strip().split(\"\\n\")),\n",
    "        )\n",
    "    )\n",
    "    \n",
    "    if data_rows:\n",
    "        data_df = pd.DataFrame(data_rows, columns=column_names, dtype='object')\n",
    "    else:\n",
    "        # Create empty DataFrame with correct columns\n",
    "        data_df = pd.DataFrame(columns=column_names, dtype='object')\n",
    "    \n",
    "    data_df = data_df.astype(dict(zip(column_names, pandas_types)))\n",
    "    return schema_df, data_df"
   ]
  },
  {
   "cell_type": "code",
   "execution_count": 67,
   "id": "f6a4f998",
   "metadata": {},
   "outputs": [
    {
     "data": {
      "text/html": [
       "<div>\n",
       "<style scoped>\n",
       "    .dataframe tbody tr th:only-of-type {\n",
       "        vertical-align: middle;\n",
       "    }\n",
       "\n",
       "    .dataframe tbody tr th {\n",
       "        vertical-align: top;\n",
       "    }\n",
       "\n",
       "    .dataframe thead th {\n",
       "        text-align: right;\n",
       "    }\n",
       "</style>\n",
       "<table border=\"1\" class=\"dataframe\">\n",
       "  <thead>\n",
       "    <tr style=\"text-align: right;\">\n",
       "      <th></th>\n",
       "      <th>a</th>\n",
       "      <th>b</th>\n",
       "    </tr>\n",
       "  </thead>\n",
       "  <tbody>\n",
       "    <tr>\n",
       "      <th>0</th>\n",
       "      <td>Int32</td>\n",
       "      <td>Int32</td>\n",
       "    </tr>\n",
       "  </tbody>\n",
       "</table>\n",
       "</div>"
      ],
      "text/plain": [
       "       a      b\n",
       "0  Int32  Int32"
      ]
     },
     "execution_count": 67,
     "metadata": {},
     "output_type": "execute_result"
    }
   ],
   "source": [
    "schema_df, data_df = convert_schema_and_data_to_pandas_df(\n",
    "    \"a\\tInt32\\n\" \\\n",
    "    \"b\\tInt32\",\n",
    "    \"1\\t2\"\n",
    ")\n",
    "schema_df"
   ]
  },
  {
   "cell_type": "code",
   "execution_count": 68,
   "id": "5153953b",
   "metadata": {},
   "outputs": [
    {
     "data": {
      "text/html": [
       "<div>\n",
       "<style scoped>\n",
       "    .dataframe tbody tr th:only-of-type {\n",
       "        vertical-align: middle;\n",
       "    }\n",
       "\n",
       "    .dataframe tbody tr th {\n",
       "        vertical-align: top;\n",
       "    }\n",
       "\n",
       "    .dataframe thead th {\n",
       "        text-align: right;\n",
       "    }\n",
       "</style>\n",
       "<table border=\"1\" class=\"dataframe\">\n",
       "  <thead>\n",
       "    <tr style=\"text-align: right;\">\n",
       "      <th></th>\n",
       "      <th>a</th>\n",
       "      <th>b</th>\n",
       "    </tr>\n",
       "  </thead>\n",
       "  <tbody>\n",
       "    <tr>\n",
       "      <th>0</th>\n",
       "      <td>1</td>\n",
       "      <td>2</td>\n",
       "    </tr>\n",
       "  </tbody>\n",
       "</table>\n",
       "</div>"
      ],
      "text/plain": [
       "   a  b\n",
       "0  1  2"
      ]
     },
     "execution_count": 68,
     "metadata": {},
     "output_type": "execute_result"
    }
   ],
   "source": [
    "data_df"
   ]
  }
 ],
 "metadata": {
  "kernelspec": {
   "display_name": "MainPythonEnv",
   "language": "python",
   "name": "python3"
  },
  "language_info": {
   "codemirror_mode": {
    "name": "ipython",
    "version": 3
   },
   "file_extension": ".py",
   "mimetype": "text/x-python",
   "name": "python",
   "nbconvert_exporter": "python",
   "pygments_lexer": "ipython3",
   "version": "3.12.3"
  }
 },
 "nbformat": 4,
 "nbformat_minor": 5
}
